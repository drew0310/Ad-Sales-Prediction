{
  "cells": [
    {
      "cell_type": "markdown",
      "metadata": {
        "id": "DQVmHMIigU9w"
      },
      "source": [
        "### TOPIC: \"Advertising Sales Prediction based on different advertising mediums.\" \n",
        "\n",
        "### FIELD: \"Linear Regression”.\n",
        "\n",
        "#### Dataset: [https://www.kaggle.com/datasets/harrimansaragih/dummy-advertising-and-sales-data]\n",
        "\n",
        "##### Achyuth Anand - 205001003\n",
        "##### Aravind R - 205001013\n",
        "##### Bhuvnesh Magotra - 205001021"
      ]
    },
    {
      "cell_type": "code",
      "execution_count": null,
      "metadata": {
        "id": "eDfuv5SqgU94"
      },
      "outputs": [],
      "source": [
        "import numpy as np\n",
        "import pandas as pd\n",
        "import matplotlib.pyplot as plt\n",
        "\n",
        "data= pd.read_csv('./Data.csv')"
      ]
    },
    {
      "cell_type": "markdown",
      "metadata": {
        "id": "5WVHCVX7gU97"
      },
      "source": [
        "1. This code is a Python script that imports the NumPy, Pandas and Matplotlib libraries. \n",
        "\n",
        "2. The NumPy library is used for numerical operations on arrays and matrices. \n",
        "\n",
        "3. The Pandas library is used for data manipulation and analysis. \n",
        "\n",
        "4. The Matplotlib library is used for data visualization. \n",
        "\n",
        "5. The pd.read_csv() function from Pandas library is used to read a CSV file into a DataFrame object. \n",
        "\n"
      ]
    },
    {
      "cell_type": "code",
      "execution_count": null,
      "metadata": {
        "id": "HWT6e2NBgU98"
      },
      "outputs": [],
      "source": [
        "import warnings\n",
        "warnings.filterwarnings('ignore')"
      ]
    },
    {
      "cell_type": "markdown",
      "metadata": {
        "id": "RZOt4SzcgU98"
      },
      "source": [
        "Data Extraction:\n",
        "1. Removing unrequired columns.\n",
        "2. Dropping NaN(Null) rows."
      ]
    },
    {
      "cell_type": "code",
      "execution_count": null,
      "metadata": {
        "id": "k6hXegFYgU99"
      },
      "outputs": [],
      "source": [
        "#Replace the space in column names with an underscore\n",
        "data.columns = [c.replace(' ', '_') for c in data.columns]"
      ]
    },
    {
      "cell_type": "code",
      "execution_count": null,
      "metadata": {
        "id": "GjNoPpEhgU99"
      },
      "outputs": [],
      "source": [
        "data.drop('Influencer',axis='columns', inplace=True)"
      ]
    },
    {
      "cell_type": "code",
      "execution_count": null,
      "metadata": {
        "id": "6WokD88ogU9-",
        "outputId": "8f2cc5a4-a38d-425c-cf68-40e167a0654d",
        "colab": {
          "base_uri": "https://localhost:8080/"
        }
      },
      "outputs": [
        {
          "output_type": "execute_result",
          "data": {
            "text/plain": [
              "True"
            ]
          },
          "metadata": {},
          "execution_count": 5
        }
      ],
      "source": [
        "#check if there is a null value in our dataset\n",
        "data.isnull().values.any()\n"
      ]
    },
    {
      "cell_type": "code",
      "execution_count": null,
      "metadata": {
        "id": "_JtYilRJgU-A",
        "outputId": "a18f3ea9-ee2b-420d-b58c-4eeb8f9248ee",
        "colab": {
          "base_uri": "https://localhost:8080/"
        }
      },
      "outputs": [
        {
          "output_type": "execute_result",
          "data": {
            "text/plain": [
              "TV              10\n",
              "Radio            4\n",
              "Social_Media     6\n",
              "Sales            6\n",
              "dtype: int64"
            ]
          },
          "metadata": {},
          "execution_count": 6
        }
      ],
      "source": [
        "#display the number of null values and its corresponding columns\n",
        "data.isnull().sum()"
      ]
    },
    {
      "cell_type": "code",
      "execution_count": null,
      "metadata": {
        "id": "BGoJAFjbgU-A"
      },
      "outputs": [],
      "source": [
        "#Clean the data by deleting rows with null values, since their number\n",
        "#is small compared to the total number of rows in the dataset, \n",
        "#so deleting them will not have a significant effect.\n",
        "\n",
        "data.dropna(subset = ['TV'], inplace=True)\n",
        "data.dropna(subset = ['Radio'], inplace=True)\n",
        "data.dropna(subset = ['Social_Media'], inplace=True)\n",
        "data.dropna(subset = ['Sales'], inplace=True)"
      ]
    },
    {
      "cell_type": "code",
      "execution_count": null,
      "metadata": {
        "id": "6-cDghIhgU-B",
        "outputId": "05b53234-fb1e-405f-dd86-f0550d0b9c0f",
        "colab": {
          "base_uri": "https://localhost:8080/"
        }
      },
      "outputs": [
        {
          "output_type": "stream",
          "name": "stdout",
          "text": [
            "<class 'pandas.core.frame.DataFrame'>\n",
            "Int64Index: 4546 entries, 0 to 4571\n",
            "Data columns (total 4 columns):\n",
            " #   Column        Non-Null Count  Dtype  \n",
            "---  ------        --------------  -----  \n",
            " 0   TV            4546 non-null   float64\n",
            " 1   Radio         4546 non-null   float64\n",
            " 2   Social_Media  4546 non-null   float64\n",
            " 3   Sales         4546 non-null   float64\n",
            "dtypes: float64(4)\n",
            "memory usage: 177.6 KB\n"
          ]
        }
      ],
      "source": [
        "data.info()"
      ]
    },
    {
      "cell_type": "code",
      "execution_count": null,
      "metadata": {
        "id": "bebDCPUfgU-C",
        "outputId": "6620fe86-8098-48ae-ce72-73386078342b",
        "colab": {
          "base_uri": "https://localhost:8080/",
          "height": 423
        }
      },
      "outputs": [
        {
          "output_type": "execute_result",
          "data": {
            "text/plain": [
              "        TV      Radio  Social_Media       Sales\n",
              "0     16.0   6.566231      2.907983   54.732757\n",
              "1     13.0   9.237765      2.409567   46.677897\n",
              "2     41.0  15.886446      2.913410  150.177829\n",
              "3     83.0  30.020028      6.922304  298.246340\n",
              "4     15.0   8.437408      1.405998   56.594181\n",
              "...    ...        ...           ...         ...\n",
              "4567  26.0   4.472360      0.717090   94.685866\n",
              "4568  71.0  20.610685      6.545573  249.101915\n",
              "4569  44.0  19.800072      5.096192  163.631457\n",
              "4570  71.0  17.534640      1.940873  253.610411\n",
              "4571  42.0  15.966688      5.046548  148.202414\n",
              "\n",
              "[4546 rows x 4 columns]"
            ],
            "text/html": [
              "\n",
              "  <div id=\"df-6a971fb3-625e-4a53-b19a-d52b0a9023e1\">\n",
              "    <div class=\"colab-df-container\">\n",
              "      <div>\n",
              "<style scoped>\n",
              "    .dataframe tbody tr th:only-of-type {\n",
              "        vertical-align: middle;\n",
              "    }\n",
              "\n",
              "    .dataframe tbody tr th {\n",
              "        vertical-align: top;\n",
              "    }\n",
              "\n",
              "    .dataframe thead th {\n",
              "        text-align: right;\n",
              "    }\n",
              "</style>\n",
              "<table border=\"1\" class=\"dataframe\">\n",
              "  <thead>\n",
              "    <tr style=\"text-align: right;\">\n",
              "      <th></th>\n",
              "      <th>TV</th>\n",
              "      <th>Radio</th>\n",
              "      <th>Social_Media</th>\n",
              "      <th>Sales</th>\n",
              "    </tr>\n",
              "  </thead>\n",
              "  <tbody>\n",
              "    <tr>\n",
              "      <th>0</th>\n",
              "      <td>16.0</td>\n",
              "      <td>6.566231</td>\n",
              "      <td>2.907983</td>\n",
              "      <td>54.732757</td>\n",
              "    </tr>\n",
              "    <tr>\n",
              "      <th>1</th>\n",
              "      <td>13.0</td>\n",
              "      <td>9.237765</td>\n",
              "      <td>2.409567</td>\n",
              "      <td>46.677897</td>\n",
              "    </tr>\n",
              "    <tr>\n",
              "      <th>2</th>\n",
              "      <td>41.0</td>\n",
              "      <td>15.886446</td>\n",
              "      <td>2.913410</td>\n",
              "      <td>150.177829</td>\n",
              "    </tr>\n",
              "    <tr>\n",
              "      <th>3</th>\n",
              "      <td>83.0</td>\n",
              "      <td>30.020028</td>\n",
              "      <td>6.922304</td>\n",
              "      <td>298.246340</td>\n",
              "    </tr>\n",
              "    <tr>\n",
              "      <th>4</th>\n",
              "      <td>15.0</td>\n",
              "      <td>8.437408</td>\n",
              "      <td>1.405998</td>\n",
              "      <td>56.594181</td>\n",
              "    </tr>\n",
              "    <tr>\n",
              "      <th>...</th>\n",
              "      <td>...</td>\n",
              "      <td>...</td>\n",
              "      <td>...</td>\n",
              "      <td>...</td>\n",
              "    </tr>\n",
              "    <tr>\n",
              "      <th>4567</th>\n",
              "      <td>26.0</td>\n",
              "      <td>4.472360</td>\n",
              "      <td>0.717090</td>\n",
              "      <td>94.685866</td>\n",
              "    </tr>\n",
              "    <tr>\n",
              "      <th>4568</th>\n",
              "      <td>71.0</td>\n",
              "      <td>20.610685</td>\n",
              "      <td>6.545573</td>\n",
              "      <td>249.101915</td>\n",
              "    </tr>\n",
              "    <tr>\n",
              "      <th>4569</th>\n",
              "      <td>44.0</td>\n",
              "      <td>19.800072</td>\n",
              "      <td>5.096192</td>\n",
              "      <td>163.631457</td>\n",
              "    </tr>\n",
              "    <tr>\n",
              "      <th>4570</th>\n",
              "      <td>71.0</td>\n",
              "      <td>17.534640</td>\n",
              "      <td>1.940873</td>\n",
              "      <td>253.610411</td>\n",
              "    </tr>\n",
              "    <tr>\n",
              "      <th>4571</th>\n",
              "      <td>42.0</td>\n",
              "      <td>15.966688</td>\n",
              "      <td>5.046548</td>\n",
              "      <td>148.202414</td>\n",
              "    </tr>\n",
              "  </tbody>\n",
              "</table>\n",
              "<p>4546 rows × 4 columns</p>\n",
              "</div>\n",
              "      <button class=\"colab-df-convert\" onclick=\"convertToInteractive('df-6a971fb3-625e-4a53-b19a-d52b0a9023e1')\"\n",
              "              title=\"Convert this dataframe to an interactive table.\"\n",
              "              style=\"display:none;\">\n",
              "        \n",
              "  <svg xmlns=\"http://www.w3.org/2000/svg\" height=\"24px\"viewBox=\"0 0 24 24\"\n",
              "       width=\"24px\">\n",
              "    <path d=\"M0 0h24v24H0V0z\" fill=\"none\"/>\n",
              "    <path d=\"M18.56 5.44l.94 2.06.94-2.06 2.06-.94-2.06-.94-.94-2.06-.94 2.06-2.06.94zm-11 1L8.5 8.5l.94-2.06 2.06-.94-2.06-.94L8.5 2.5l-.94 2.06-2.06.94zm10 10l.94 2.06.94-2.06 2.06-.94-2.06-.94-.94-2.06-.94 2.06-2.06.94z\"/><path d=\"M17.41 7.96l-1.37-1.37c-.4-.4-.92-.59-1.43-.59-.52 0-1.04.2-1.43.59L10.3 9.45l-7.72 7.72c-.78.78-.78 2.05 0 2.83L4 21.41c.39.39.9.59 1.41.59.51 0 1.02-.2 1.41-.59l7.78-7.78 2.81-2.81c.8-.78.8-2.07 0-2.86zM5.41 20L4 18.59l7.72-7.72 1.47 1.35L5.41 20z\"/>\n",
              "  </svg>\n",
              "      </button>\n",
              "      \n",
              "  <style>\n",
              "    .colab-df-container {\n",
              "      display:flex;\n",
              "      flex-wrap:wrap;\n",
              "      gap: 12px;\n",
              "    }\n",
              "\n",
              "    .colab-df-convert {\n",
              "      background-color: #E8F0FE;\n",
              "      border: none;\n",
              "      border-radius: 50%;\n",
              "      cursor: pointer;\n",
              "      display: none;\n",
              "      fill: #1967D2;\n",
              "      height: 32px;\n",
              "      padding: 0 0 0 0;\n",
              "      width: 32px;\n",
              "    }\n",
              "\n",
              "    .colab-df-convert:hover {\n",
              "      background-color: #E2EBFA;\n",
              "      box-shadow: 0px 1px 2px rgba(60, 64, 67, 0.3), 0px 1px 3px 1px rgba(60, 64, 67, 0.15);\n",
              "      fill: #174EA6;\n",
              "    }\n",
              "\n",
              "    [theme=dark] .colab-df-convert {\n",
              "      background-color: #3B4455;\n",
              "      fill: #D2E3FC;\n",
              "    }\n",
              "\n",
              "    [theme=dark] .colab-df-convert:hover {\n",
              "      background-color: #434B5C;\n",
              "      box-shadow: 0px 1px 3px 1px rgba(0, 0, 0, 0.15);\n",
              "      filter: drop-shadow(0px 1px 2px rgba(0, 0, 0, 0.3));\n",
              "      fill: #FFFFFF;\n",
              "    }\n",
              "  </style>\n",
              "\n",
              "      <script>\n",
              "        const buttonEl =\n",
              "          document.querySelector('#df-6a971fb3-625e-4a53-b19a-d52b0a9023e1 button.colab-df-convert');\n",
              "        buttonEl.style.display =\n",
              "          google.colab.kernel.accessAllowed ? 'block' : 'none';\n",
              "\n",
              "        async function convertToInteractive(key) {\n",
              "          const element = document.querySelector('#df-6a971fb3-625e-4a53-b19a-d52b0a9023e1');\n",
              "          const dataTable =\n",
              "            await google.colab.kernel.invokeFunction('convertToInteractive',\n",
              "                                                     [key], {});\n",
              "          if (!dataTable) return;\n",
              "\n",
              "          const docLinkHtml = 'Like what you see? Visit the ' +\n",
              "            '<a target=\"_blank\" href=https://colab.research.google.com/notebooks/data_table.ipynb>data table notebook</a>'\n",
              "            + ' to learn more about interactive tables.';\n",
              "          element.innerHTML = '';\n",
              "          dataTable['output_type'] = 'display_data';\n",
              "          await google.colab.output.renderOutput(dataTable, element);\n",
              "          const docLink = document.createElement('div');\n",
              "          docLink.innerHTML = docLinkHtml;\n",
              "          element.appendChild(docLink);\n",
              "        }\n",
              "      </script>\n",
              "    </div>\n",
              "  </div>\n",
              "  "
            ]
          },
          "metadata": {},
          "execution_count": 9
        }
      ],
      "source": [
        "data"
      ]
    },
    {
      "cell_type": "markdown",
      "metadata": {
        "id": "kMkETuligU-D"
      },
      "source": [
        "1. The scatter plot shows the relationship between the total amount spent on advertising (TV, Radio and Social Media) and the sales. \n",
        "\n",
        "2. The x-axis represents the total amount spent on advertising while the y-axis represents the sales. \n",
        "\n",
        "3. The scatter plot shows that as the amount spent on advertising increases, so does the sales."
      ]
    },
    {
      "cell_type": "code",
      "execution_count": null,
      "metadata": {
        "id": "lyDT85HjgU-D",
        "outputId": "6841a37b-2a4e-4586-dd47-080bd3312b7b",
        "colab": {
          "base_uri": "https://localhost:8080/",
          "height": 449
        }
      },
      "outputs": [
        {
          "output_type": "display_data",
          "data": {
            "text/plain": [
              "<Figure size 640x480 with 1 Axes>"
            ],
            "image/png": "[encoded data removed]"
          },
          "metadata": {}
        }
      ],
      "source": [
        "plt.scatter(data[\"TV\"] + data[\"Radio\"] + data[\"Social_Media\"],data[\"Sales\"], color=\"lightblue\")\n",
        "plt.xlabel(\"Advertisement\")\n",
        "plt.ylabel(\"Sales\")\n",
        "plt.show()"
      ]
    },
    {
      "cell_type": "markdown",
      "metadata": {
        "id": "g6sMSObOgU-E"
      },
      "source": [
        "- x: The input features (independent variables) of your dataset.\n",
        "- y: The target variable (dependent variable) of your dataset.\n",
        "- test_size: The proportion of the dataset to include in the test split. For example, if test_size=0.2, then 20% of the data will be used for testing and 80% for training.\n",
        "- random_state: The seed used by the random number generator. This ensures that the same random splits are generated each time you run the code"
      ]
    },
    {
      "cell_type": "code",
      "execution_count": null,
      "metadata": {
        "id": "ABZcuInbgU-F"
      },
      "outputs": [],
      "source": [
        "from sklearn.model_selection import train_test_split\n",
        "\n",
        "#Create column \"Advertisement\" that combine the other three columns \n",
        "data['Advertisement'] = data[\"TV\"] + data[\"Radio\"] + data[\"Social_Media\"]\n",
        "\n",
        "#Save input as 2d array in variable x\n",
        "x = data[['Advertisement']]\n",
        "\n",
        "#Save output as 2d array in variable y \n",
        "y=data[['Sales']]\n",
        "\n",
        "#Split input and output to training and testing data\n",
        "x_train, x_test, y_train, y_test = train_test_split(x,y,test_size=0.2,random_state=42)"
      ]
    },
    {
      "cell_type": "code",
      "execution_count": null,
      "metadata": {
        "id": "ZRNU4PMbgU-F",
        "outputId": "7751488a-bb00-44c6-9133-1906e4ecf7ac",
        "colab": {
          "base_uri": "https://localhost:8080/"
        }
      },
      "outputs": [
        {
          "output_type": "stream",
          "name": "stdout",
          "text": [
            "Advertisement: mean=75.544 stdv=36.122\n",
            "Sales: mean=192.413 stdv=93.010\n"
          ]
        }
      ],
      "source": [
        "# Convert the Series to a NumPy array and Print the mean and standard deviation\n",
        "#input x (Advertisement) and output y (Sales) columns\n",
        "print('Advertisement: mean=%.3f stdv=%.3f' % (np.mean(x.values), np.std(x.values)))\n",
        "print('Sales: mean=%.3f stdv=%.3f' % (np.mean(y.values), np.std(y.values)))"
      ]
    },
    {
      "cell_type": "markdown",
      "metadata": {
        "id": "AeHkFse9gU-G"
      },
      "source": [
        "- Create a linear regression model using the scikit-learn library in Python. \n",
        "- The linear_model.LinearRegression() function is used to create the model. \n",
        "- The fit() function is used to fit the model to the training data. \n",
        "- The coef_ attribute of the model object contains the coefficients (slopes) of the linear regression line. \n",
        "- The intercept_ attribute contains the y-intercept of the line"
      ]
    },
    {
      "cell_type": "code",
      "execution_count": null,
      "metadata": {
        "id": "jdrUx-EzgU-H",
        "outputId": "541c03a8-aaf8-4718-e866-82726d4b6d01",
        "colab": {
          "base_uri": "https://localhost:8080/"
        }
      },
      "outputs": [
        {
          "output_type": "stream",
          "name": "stdout",
          "text": [
            "coefficients:  [[2.5447444]]\n",
            "Intercept:  [-0.04017377]\n"
          ]
        }
      ],
      "source": [
        "from sklearn import linear_model\n",
        "\n",
        "#Create our first linear regression model\n",
        "model_1=linear_model.LinearRegression()#Select linear regression model\n",
        "model_1.fit(x_train,y_train)\n",
        "\n",
        "#The coefficients:\n",
        "print(\"coefficients: \", model_1.coef_)#Slope\n",
        "print(\"Intercept: \", model_1.intercept_)#Intercept"
      ]
    },
    {
      "cell_type": "markdown",
      "metadata": {
        "id": "P8jAv04vgU-H"
      },
      "source": [
        "- x_train: The input features (independent variables) of your training dataset.\n",
        "- model_1.coef_: The slope (coefficient) of the linear regression model.\n",
        "- x_train*model_1.coef_+model_1.intercept_: The equation of the line (y = mx + b) where m is the slope and b is the y-intercept.\n",
        "- ‘-r’: The color and style of the line. ‘-r’ means a solid red line"
      ]
    },
    {
      "cell_type": "code",
      "execution_count": null,
      "metadata": {
        "id": "hM2AAvwOgU-I",
        "outputId": "ce494097-10ef-44fd-c1c5-dac369694160",
        "colab": {
          "base_uri": "https://localhost:8080/",
          "height": 466
        }
      },
      "outputs": [
        {
          "output_type": "execute_result",
          "data": {
            "text/plain": [
              "Text(0, 0.5, 'Sales')"
            ]
          },
          "metadata": {},
          "execution_count": 14
        },
        {
          "output_type": "display_data",
          "data": {
            "text/plain": [
              "<Figure size 640x480 with 1 Axes>"
            ],
            "image/png": "[encoded data removed]"
          },
          "metadata": {}
        }
      ],
      "source": [
        "#Plotting the regression line:\n",
        "plt.scatter(data[\"Advertisement\"], data[\"Sales\"], color='lightblue')\n",
        "plt.plot(x_train, model_1.coef_*x_train+model_1.intercept_,'-r')\n",
        "plt.xlabel(\"Advertisement\")\n",
        "plt.ylabel(\"Sales\")\n"
      ]
    },
    {
      "cell_type": "markdown",
      "metadata": {
        "id": "w_-VuozlgU-J"
      },
      "source": [
        "* Predict sales using a linear regression model. \n",
        "\n",
        "* The code you provided is reshaping an array using numpy’s reshape function1 which is used to give a new shape to an array without changing its data. The reshape function takes an array_like object and a new shape as arguments. The new shape should be compatible with the original shape. If an integer is passed as the new shape, then the result will be a 1-D array of that length. One shape dimension can be -1 which means that the value is inferred from the length of the array and remaining dimensions.\n",
        "\n",
        "* The code then uses the predict method of the linear regression model to predict sales. The predict method returns predicted values for the input samples."
      ]
    },
    {
      "cell_type": "code",
      "execution_count": null,
      "metadata": {
        "id": "6ovec8nRgU-J"
      },
      "outputs": [],
      "source": [
        "myAd = np.array(70000000).reshape(1,-1)"
      ]
    },
    {
      "cell_type": "code",
      "execution_count": null,
      "metadata": {
        "id": "5f3pnBjxgU-K"
      },
      "outputs": [],
      "source": [
        "prediction = model_1.predict(myAd)"
      ]
    },
    {
      "cell_type": "code",
      "execution_count": null,
      "metadata": {
        "id": "2AQE0279gU-K",
        "outputId": "19acfd90-ad70-44aa-e7ef-74a9c1b0bf6f",
        "colab": {
          "base_uri": "https://localhost:8080/"
        }
      },
      "outputs": [
        {
          "output_type": "stream",
          "name": "stdout",
          "text": [
            "Estimated Sales is: 178.132108 million\n"
          ]
        }
      ],
      "source": [
        "estimatedSales = '{:.6f}'.format(prediction.item()/1000000)\n",
        "print(\"Estimated Sales is: {} million\".format(estimatedSales))"
      ]
    },
    {
      "cell_type": "code",
      "execution_count": null,
      "metadata": {
        "id": "qyLFY5cMgU-L"
      },
      "outputs": [],
      "source": [
        "y_pred = model_1.predict(x_test)"
      ]
    },
    {
      "cell_type": "markdown",
      "metadata": {
        "id": "uNaH6YBOgU-L"
      },
      "source": [
        "Calculating the evaluation metrics for the linear regression model. \n",
        "The evaluation metrics are used to assess the quality of predictions made by the model.\n",
        "\n",
        "The three evaluation metrics calculated are:\n",
        "\n",
        "> - Mean Absolute Error (MAE)\n",
        "> - Mean Squared Error (MSE)\n",
        "> - Root Mean Squared Error (RMSE)\n",
        "\n",
        "The MAE is the average of the absolute differences between predicted and actual values. The MSE is the average of the squared differences between predicted and actual values. The RMSE is the square root of the MSE."
      ]
    },
    {
      "cell_type": "code",
      "execution_count": null,
      "metadata": {
        "id": "GvhtKjjCgU-M",
        "outputId": "0ea66cab-45d2-4d83-8454-46cba8f92f17",
        "colab": {
          "base_uri": "https://localhost:8080/"
        }
      },
      "outputs": [
        {
          "output_type": "stream",
          "name": "stdout",
          "text": [
            "The mean absolute error is:  11.86999717820567\n",
            "The mean squared error is:  221.55012058562846\n",
            "The root mean squared error is:  14.884559804899453\n"
          ]
        }
      ],
      "source": [
        "from sklearn import metrics\n",
        "\n",
        "# Calculate the evaluation metrics \n",
        "\n",
        "#1- Mean Absolute Error (MAE)\n",
        "print('The mean absolute error is: ',metrics.mean_absolute_error(y_test, y_pred))\n",
        "\n",
        "#2- Mean Squared Error (MSE)\n",
        "print('The mean squared error is: ',metrics.mean_squared_error(y_test, y_pred))\n",
        "\n",
        "#3- Root Mean Squared Error (RMSE)\n",
        "print('The root mean squared error is: ',np.sqrt(metrics.mean_squared_error(y_test, y_pred)))"
      ]
    },
    {
      "cell_type": "code",
      "execution_count": null,
      "metadata": {
        "id": "6pKvaf6EgU-M",
        "outputId": "43705c3c-f351-45df-ecd2-381e67837254",
        "colab": {
          "base_uri": "https://localhost:8080/"
        }
      },
      "outputs": [
        {
          "output_type": "stream",
          "name": "stdout",
          "text": [
            "<class 'pandas.core.frame.DataFrame'>\n",
            "Int64Index: 4546 entries, 0 to 4571\n",
            "Data columns (total 5 columns):\n",
            " #   Column         Non-Null Count  Dtype  \n",
            "---  ------         --------------  -----  \n",
            " 0   TV             4546 non-null   float64\n",
            " 1   Radio          4546 non-null   float64\n",
            " 2   Social_Media   4546 non-null   float64\n",
            " 3   Sales          4546 non-null   float64\n",
            " 4   Advertisement  4546 non-null   float64\n",
            "dtypes: float64(5)\n",
            "memory usage: 213.1 KB\n"
          ]
        }
      ],
      "source": [
        "data.info()"
      ]
    },
    {
      "cell_type": "code",
      "execution_count": null,
      "metadata": {
        "id": "2xdQhm7dgU-N",
        "outputId": "8cf1e9e4-59c4-4115-b198-1e7888945acd",
        "colab": {
          "base_uri": "https://localhost:8080/"
        }
      },
      "outputs": [
        {
          "output_type": "execute_result",
          "data": {
            "text/plain": [
              "TV              245770.000000\n",
              "Radio            82544.145483\n",
              "Social_Media     15108.507602\n",
              "dtype: float64"
            ]
          },
          "metadata": {},
          "execution_count": 21
        }
      ],
      "source": [
        "#Sum budget of each channel\n",
        "type = data[[\"TV\", \"Radio\", \"Social_Media\"]]\n",
        "type.sum()"
      ]
    },
    {
      "cell_type": "markdown",
      "metadata": {
        "id": "g5NwWJE4gU-N"
      },
      "source": [
        "* plot a bar chart that shows the correlation between each channel and “Sales”. Here is what each argument in the plt.bar() function does:\n",
        "\n",
        "* x: The x coordinates of the bars.\n",
        "\n",
        "* y: The height of the bars.\n",
        "\n",
        "* plt.xticks(x, type): Set the x-tick labels with the channel names.\n",
        "\n",
        "* This will plot a bar chart that shows the correlation between each channel and “Sales”."
      ]
    },
    {
      "cell_type": "code",
      "execution_count": null,
      "metadata": {
        "id": "qrmw5_cRgU-O",
        "outputId": "2c840d8b-16be-4cb2-acbf-c9a902012dd1",
        "colab": {
          "base_uri": "https://localhost:8080/",
          "height": 499
        }
      },
      "outputs": [
        {
          "output_type": "execute_result",
          "data": {
            "text/plain": [
              "([<matplotlib.axis.XTick at 0x7f2e35e35cf0>,\n",
              "  <matplotlib.axis.XTick at 0x7f2e35e35cc0>,\n",
              "  <matplotlib.axis.XTick at 0x7f2e35e358d0>],\n",
              " [Text(0, 0, 'TV'), Text(1, 0, 'Radio'), Text(2, 0, 'Social_Media')])"
            ]
          },
          "metadata": {},
          "execution_count": 22
        },
        {
          "output_type": "display_data",
          "data": {
            "text/plain": [
              "<Figure size 640x480 with 1 Axes>"
            ],
            "image/png": "[encoded data removed]"
          },
          "metadata": {}
        }
      ],
      "source": [
        "#Plot the correlation between each channel and \"Sales\"\n",
        "x = [i for i, _ in enumerate(type)]\n",
        "y = type.sum()\n",
        "plt.bar(x, y)\n",
        "plt.xticks(x, type)"
      ]
    },
    {
      "cell_type": "markdown",
      "metadata": {
        "id": "nsbftKNNgU-O"
      },
      "source": [
        "\n",
        "- Plotting a scatter plot of the relationship between the sales and the advertising budget for TV, Radio and Social Media.\n",
        "- The x-axis represents the advertising budget for TV, Radio and Social Media. The y-axis represents the sales. \n",
        "- The scatter plot shows how the sales are related to the advertising budget for each medium."
      ]
    },
    {
      "cell_type": "code",
      "execution_count": null,
      "metadata": {
        "id": "XLOL80P1gU-P",
        "outputId": "f9241daa-b2b0-474f-f2fb-67cf69239590",
        "colab": {
          "base_uri": "https://localhost:8080/",
          "height": 450
        }
      },
      "outputs": [
        {
          "output_type": "display_data",
          "data": {
            "text/plain": [
              "<Figure size 640x480 with 1 Axes>"
            ],
            "image/png": "[encoded data removed]"
          },
          "metadata": {}
        }
      ],
      "source": [
        "plt.scatter(data[\"Social_Media\"],data[\"Sales\"], label = \"Social_Media\",  color=\"orange\")\n",
        "plt.scatter(data[\"Radio\"],data[\"Sales\"], label = \"Radio\",  color=\"blue\")\n",
        "plt.scatter(data[\"TV\"],data[\"Sales\"], label = \"TV\", color=\"purple\")\n",
        "plt.xlabel(\"TV, Radio, Social_Media\")\n",
        "plt.ylabel(\"Sales\")\n",
        "plt.legend()\n",
        "plt.show()\n"
      ]
    },
    {
      "cell_type": "code",
      "execution_count": null,
      "metadata": {
        "id": "mOzpHwtrgU-P",
        "outputId": "3654a272-277a-4991-8ca0-887157dd8054",
        "colab": {
          "base_uri": "https://localhost:8080/",
          "height": 423
        }
      },
      "outputs": [
        {
          "output_type": "execute_result",
          "data": {
            "text/plain": [
              "        TV      Radio  Social_Media       Sales  Advertisement\n",
              "0     16.0   6.566231      2.907983   54.732757      25.474214\n",
              "1     13.0   9.237765      2.409567   46.677897      24.647332\n",
              "2     41.0  15.886446      2.913410  150.177829      59.799856\n",
              "3     83.0  30.020028      6.922304  298.246340     119.942332\n",
              "4     15.0   8.437408      1.405998   56.594181      24.843406\n",
              "...    ...        ...           ...         ...            ...\n",
              "4567  26.0   4.472360      0.717090   94.685866      31.189450\n",
              "4568  71.0  20.610685      6.545573  249.101915      98.156259\n",
              "4569  44.0  19.800072      5.096192  163.631457      68.896264\n",
              "4570  71.0  17.534640      1.940873  253.610411      90.475514\n",
              "4571  42.0  15.966688      5.046548  148.202414      63.013235\n",
              "\n",
              "[4546 rows x 5 columns]"
            ],
            "text/html": [
              "\n",
              "  <div id=\"df-8a9f6a65-1677-47d7-939c-804bc352d299\">\n",
              "    <div class=\"colab-df-container\">\n",
              "      <div>\n",
              "<style scoped>\n",
              "    .dataframe tbody tr th:only-of-type {\n",
              "        vertical-align: middle;\n",
              "    }\n",
              "\n",
              "    .dataframe tbody tr th {\n",
              "        vertical-align: top;\n",
              "    }\n",
              "\n",
              "    .dataframe thead th {\n",
              "        text-align: right;\n",
              "    }\n",
              "</style>\n",
              "<table border=\"1\" class=\"dataframe\">\n",
              "  <thead>\n",
              "    <tr style=\"text-align: right;\">\n",
              "      <th></th>\n",
              "      <th>TV</th>\n",
              "      <th>Radio</th>\n",
              "      <th>Social_Media</th>\n",
              "      <th>Sales</th>\n",
              "      <th>Advertisement</th>\n",
              "    </tr>\n",
              "  </thead>\n",
              "  <tbody>\n",
              "    <tr>\n",
              "      <th>0</th>\n",
              "      <td>16.0</td>\n",
              "      <td>6.566231</td>\n",
              "      <td>2.907983</td>\n",
              "      <td>54.732757</td>\n",
              "      <td>25.474214</td>\n",
              "    </tr>\n",
              "    <tr>\n",
              "      <th>1</th>\n",
              "      <td>13.0</td>\n",
              "      <td>9.237765</td>\n",
              "      <td>2.409567</td>\n",
              "      <td>46.677897</td>\n",
              "      <td>24.647332</td>\n",
              "    </tr>\n",
              "    <tr>\n",
              "      <th>2</th>\n",
              "      <td>41.0</td>\n",
              "      <td>15.886446</td>\n",
              "      <td>2.913410</td>\n",
              "      <td>150.177829</td>\n",
              "      <td>59.799856</td>\n",
              "    </tr>\n",
              "    <tr>\n",
              "      <th>3</th>\n",
              "      <td>83.0</td>\n",
              "      <td>30.020028</td>\n",
              "      <td>6.922304</td>\n",
              "      <td>298.246340</td>\n",
              "      <td>119.942332</td>\n",
              "    </tr>\n",
              "    <tr>\n",
              "      <th>4</th>\n",
              "      <td>15.0</td>\n",
              "      <td>8.437408</td>\n",
              "      <td>1.405998</td>\n",
              "      <td>56.594181</td>\n",
              "      <td>24.843406</td>\n",
              "    </tr>\n",
              "    <tr>\n",
              "      <th>...</th>\n",
              "      <td>...</td>\n",
              "      <td>...</td>\n",
              "      <td>...</td>\n",
              "      <td>...</td>\n",
              "      <td>...</td>\n",
              "    </tr>\n",
              "    <tr>\n",
              "      <th>4567</th>\n",
              "      <td>26.0</td>\n",
              "      <td>4.472360</td>\n",
              "      <td>0.717090</td>\n",
              "      <td>94.685866</td>\n",
              "      <td>31.189450</td>\n",
              "    </tr>\n",
              "    <tr>\n",
              "      <th>4568</th>\n",
              "      <td>71.0</td>\n",
              "      <td>20.610685</td>\n",
              "      <td>6.545573</td>\n",
              "      <td>249.101915</td>\n",
              "      <td>98.156259</td>\n",
              "    </tr>\n",
              "    <tr>\n",
              "      <th>4569</th>\n",
              "      <td>44.0</td>\n",
              "      <td>19.800072</td>\n",
              "      <td>5.096192</td>\n",
              "      <td>163.631457</td>\n",
              "      <td>68.896264</td>\n",
              "    </tr>\n",
              "    <tr>\n",
              "      <th>4570</th>\n",
              "      <td>71.0</td>\n",
              "      <td>17.534640</td>\n",
              "      <td>1.940873</td>\n",
              "      <td>253.610411</td>\n",
              "      <td>90.475514</td>\n",
              "    </tr>\n",
              "    <tr>\n",
              "      <th>4571</th>\n",
              "      <td>42.0</td>\n",
              "      <td>15.966688</td>\n",
              "      <td>5.046548</td>\n",
              "      <td>148.202414</td>\n",
              "      <td>63.013235</td>\n",
              "    </tr>\n",
              "  </tbody>\n",
              "</table>\n",
              "<p>4546 rows × 5 columns</p>\n",
              "</div>\n",
              "      <button class=\"colab-df-convert\" onclick=\"convertToInteractive('df-8a9f6a65-1677-47d7-939c-804bc352d299')\"\n",
              "              title=\"Convert this dataframe to an interactive table.\"\n",
              "              style=\"display:none;\">\n",
              "        \n",
              "  <svg xmlns=\"http://www.w3.org/2000/svg\" height=\"24px\"viewBox=\"0 0 24 24\"\n",
              "       width=\"24px\">\n",
              "    <path d=\"M0 0h24v24H0V0z\" fill=\"none\"/>\n",
              "    <path d=\"M18.56 5.44l.94 2.06.94-2.06 2.06-.94-2.06-.94-.94-2.06-.94 2.06-2.06.94zm-11 1L8.5 8.5l.94-2.06 2.06-.94-2.06-.94L8.5 2.5l-.94 2.06-2.06.94zm10 10l.94 2.06.94-2.06 2.06-.94-2.06-.94-.94-2.06-.94 2.06-2.06.94z\"/><path d=\"M17.41 7.96l-1.37-1.37c-.4-.4-.92-.59-1.43-.59-.52 0-1.04.2-1.43.59L10.3 9.45l-7.72 7.72c-.78.78-.78 2.05 0 2.83L4 21.41c.39.39.9.59 1.41.59.51 0 1.02-.2 1.41-.59l7.78-7.78 2.81-2.81c.8-.78.8-2.07 0-2.86zM5.41 20L4 18.59l7.72-7.72 1.47 1.35L5.41 20z\"/>\n",
              "  </svg>\n",
              "      </button>\n",
              "      \n",
              "  <style>\n",
              "    .colab-df-container {\n",
              "      display:flex;\n",
              "      flex-wrap:wrap;\n",
              "      gap: 12px;\n",
              "    }\n",
              "\n",
              "    .colab-df-convert {\n",
              "      background-color: #E8F0FE;\n",
              "      border: none;\n",
              "      border-radius: 50%;\n",
              "      cursor: pointer;\n",
              "      display: none;\n",
              "      fill: #1967D2;\n",
              "      height: 32px;\n",
              "      padding: 0 0 0 0;\n",
              "      width: 32px;\n",
              "    }\n",
              "\n",
              "    .colab-df-convert:hover {\n",
              "      background-color: #E2EBFA;\n",
              "      box-shadow: 0px 1px 2px rgba(60, 64, 67, 0.3), 0px 1px 3px 1px rgba(60, 64, 67, 0.15);\n",
              "      fill: #174EA6;\n",
              "    }\n",
              "\n",
              "    [theme=dark] .colab-df-convert {\n",
              "      background-color: #3B4455;\n",
              "      fill: #D2E3FC;\n",
              "    }\n",
              "\n",
              "    [theme=dark] .colab-df-convert:hover {\n",
              "      background-color: #434B5C;\n",
              "      box-shadow: 0px 1px 3px 1px rgba(0, 0, 0, 0.15);\n",
              "      filter: drop-shadow(0px 1px 2px rgba(0, 0, 0, 0.3));\n",
              "      fill: #FFFFFF;\n",
              "    }\n",
              "  </style>\n",
              "\n",
              "      <script>\n",
              "        const buttonEl =\n",
              "          document.querySelector('#df-8a9f6a65-1677-47d7-939c-804bc352d299 button.colab-df-convert');\n",
              "        buttonEl.style.display =\n",
              "          google.colab.kernel.accessAllowed ? 'block' : 'none';\n",
              "\n",
              "        async function convertToInteractive(key) {\n",
              "          const element = document.querySelector('#df-8a9f6a65-1677-47d7-939c-804bc352d299');\n",
              "          const dataTable =\n",
              "            await google.colab.kernel.invokeFunction('convertToInteractive',\n",
              "                                                     [key], {});\n",
              "          if (!dataTable) return;\n",
              "\n",
              "          const docLinkHtml = 'Like what you see? Visit the ' +\n",
              "            '<a target=\"_blank\" href=https://colab.research.google.com/notebooks/data_table.ipynb>data table notebook</a>'\n",
              "            + ' to learn more about interactive tables.';\n",
              "          element.innerHTML = '';\n",
              "          dataTable['output_type'] = 'display_data';\n",
              "          await google.colab.output.renderOutput(dataTable, element);\n",
              "          const docLink = document.createElement('div');\n",
              "          docLink.innerHTML = docLinkHtml;\n",
              "          element.appendChild(docLink);\n",
              "        }\n",
              "      </script>\n",
              "    </div>\n",
              "  </div>\n",
              "  "
            ]
          },
          "metadata": {},
          "execution_count": 24
        }
      ],
      "source": [
        "data"
      ]
    },
    {
      "cell_type": "code",
      "execution_count": null,
      "metadata": {
        "id": "hlvzl39bgU-Q",
        "outputId": "2b0914c9-14d0-4292-8039-489f751f20a9",
        "colab": {
          "base_uri": "https://localhost:8080/",
          "height": 206
        }
      },
      "outputs": [
        {
          "output_type": "execute_result",
          "data": {
            "text/plain": [
              "                     TV     Radio  Social_Media     Sales  Advertisement\n",
              "TV             1.000000  0.869158      0.527687  0.999497       0.987401\n",
              "Radio          0.869158  1.000000      0.606338  0.868638       0.932667\n",
              "Social_Media   0.527687  0.606338      1.000000  0.527446       0.604712\n",
              "Sales          0.999497  0.868638      0.527446  1.000000       0.986884\n",
              "Advertisement  0.987401  0.932667      0.604712  0.986884       1.000000"
            ],
            "text/html": [
              "\n",
              "  <div id=\"df-0f0b6ce3-8568-428e-83a6-a52a008bbad9\">\n",
              "    <div class=\"colab-df-container\">\n",
              "      <div>\n",
              "<style scoped>\n",
              "    .dataframe tbody tr th:only-of-type {\n",
              "        vertical-align: middle;\n",
              "    }\n",
              "\n",
              "    .dataframe tbody tr th {\n",
              "        vertical-align: top;\n",
              "    }\n",
              "\n",
              "    .dataframe thead th {\n",
              "        text-align: right;\n",
              "    }\n",
              "</style>\n",
              "<table border=\"1\" class=\"dataframe\">\n",
              "  <thead>\n",
              "    <tr style=\"text-align: right;\">\n",
              "      <th></th>\n",
              "      <th>TV</th>\n",
              "      <th>Radio</th>\n",
              "      <th>Social_Media</th>\n",
              "      <th>Sales</th>\n",
              "      <th>Advertisement</th>\n",
              "    </tr>\n",
              "  </thead>\n",
              "  <tbody>\n",
              "    <tr>\n",
              "      <th>TV</th>\n",
              "      <td>1.000000</td>\n",
              "      <td>0.869158</td>\n",
              "      <td>0.527687</td>\n",
              "      <td>0.999497</td>\n",
              "      <td>0.987401</td>\n",
              "    </tr>\n",
              "    <tr>\n",
              "      <th>Radio</th>\n",
              "      <td>0.869158</td>\n",
              "      <td>1.000000</td>\n",
              "      <td>0.606338</td>\n",
              "      <td>0.868638</td>\n",
              "      <td>0.932667</td>\n",
              "    </tr>\n",
              "    <tr>\n",
              "      <th>Social_Media</th>\n",
              "      <td>0.527687</td>\n",
              "      <td>0.606338</td>\n",
              "      <td>1.000000</td>\n",
              "      <td>0.527446</td>\n",
              "      <td>0.604712</td>\n",
              "    </tr>\n",
              "    <tr>\n",
              "      <th>Sales</th>\n",
              "      <td>0.999497</td>\n",
              "      <td>0.868638</td>\n",
              "      <td>0.527446</td>\n",
              "      <td>1.000000</td>\n",
              "      <td>0.986884</td>\n",
              "    </tr>\n",
              "    <tr>\n",
              "      <th>Advertisement</th>\n",
              "      <td>0.987401</td>\n",
              "      <td>0.932667</td>\n",
              "      <td>0.604712</td>\n",
              "      <td>0.986884</td>\n",
              "      <td>1.000000</td>\n",
              "    </tr>\n",
              "  </tbody>\n",
              "</table>\n",
              "</div>\n",
              "      <button class=\"colab-df-convert\" onclick=\"convertToInteractive('df-0f0b6ce3-8568-428e-83a6-a52a008bbad9')\"\n",
              "              title=\"Convert this dataframe to an interactive table.\"\n",
              "              style=\"display:none;\">\n",
              "        \n",
              "  <svg xmlns=\"http://www.w3.org/2000/svg\" height=\"24px\"viewBox=\"0 0 24 24\"\n",
              "       width=\"24px\">\n",
              "    <path d=\"M0 0h24v24H0V0z\" fill=\"none\"/>\n",
              "    <path d=\"M18.56 5.44l.94 2.06.94-2.06 2.06-.94-2.06-.94-.94-2.06-.94 2.06-2.06.94zm-11 1L8.5 8.5l.94-2.06 2.06-.94-2.06-.94L8.5 2.5l-.94 2.06-2.06.94zm10 10l.94 2.06.94-2.06 2.06-.94-2.06-.94-.94-2.06-.94 2.06-2.06.94z\"/><path d=\"M17.41 7.96l-1.37-1.37c-.4-.4-.92-.59-1.43-.59-.52 0-1.04.2-1.43.59L10.3 9.45l-7.72 7.72c-.78.78-.78 2.05 0 2.83L4 21.41c.39.39.9.59 1.41.59.51 0 1.02-.2 1.41-.59l7.78-7.78 2.81-2.81c.8-.78.8-2.07 0-2.86zM5.41 20L4 18.59l7.72-7.72 1.47 1.35L5.41 20z\"/>\n",
              "  </svg>\n",
              "      </button>\n",
              "      \n",
              "  <style>\n",
              "    .colab-df-container {\n",
              "      display:flex;\n",
              "      flex-wrap:wrap;\n",
              "      gap: 12px;\n",
              "    }\n",
              "\n",
              "    .colab-df-convert {\n",
              "      background-color: #E8F0FE;\n",
              "      border: none;\n",
              "      border-radius: 50%;\n",
              "      cursor: pointer;\n",
              "      display: none;\n",
              "      fill: #1967D2;\n",
              "      height: 32px;\n",
              "      padding: 0 0 0 0;\n",
              "      width: 32px;\n",
              "    }\n",
              "\n",
              "    .colab-df-convert:hover {\n",
              "      background-color: #E2EBFA;\n",
              "      box-shadow: 0px 1px 2px rgba(60, 64, 67, 0.3), 0px 1px 3px 1px rgba(60, 64, 67, 0.15);\n",
              "      fill: #174EA6;\n",
              "    }\n",
              "\n",
              "    [theme=dark] .colab-df-convert {\n",
              "      background-color: #3B4455;\n",
              "      fill: #D2E3FC;\n",
              "    }\n",
              "\n",
              "    [theme=dark] .colab-df-convert:hover {\n",
              "      background-color: #434B5C;\n",
              "      box-shadow: 0px 1px 3px 1px rgba(0, 0, 0, 0.15);\n",
              "      filter: drop-shadow(0px 1px 2px rgba(0, 0, 0, 0.3));\n",
              "      fill: #FFFFFF;\n",
              "    }\n",
              "  </style>\n",
              "\n",
              "      <script>\n",
              "        const buttonEl =\n",
              "          document.querySelector('#df-0f0b6ce3-8568-428e-83a6-a52a008bbad9 button.colab-df-convert');\n",
              "        buttonEl.style.display =\n",
              "          google.colab.kernel.accessAllowed ? 'block' : 'none';\n",
              "\n",
              "        async function convertToInteractive(key) {\n",
              "          const element = document.querySelector('#df-0f0b6ce3-8568-428e-83a6-a52a008bbad9');\n",
              "          const dataTable =\n",
              "            await google.colab.kernel.invokeFunction('convertToInteractive',\n",
              "                                                     [key], {});\n",
              "          if (!dataTable) return;\n",
              "\n",
              "          const docLinkHtml = 'Like what you see? Visit the ' +\n",
              "            '<a target=\"_blank\" href=https://colab.research.google.com/notebooks/data_table.ipynb>data table notebook</a>'\n",
              "            + ' to learn more about interactive tables.';\n",
              "          element.innerHTML = '';\n",
              "          dataTable['output_type'] = 'display_data';\n",
              "          await google.colab.output.renderOutput(dataTable, element);\n",
              "          const docLink = document.createElement('div');\n",
              "          docLink.innerHTML = docLinkHtml;\n",
              "          element.appendChild(docLink);\n",
              "        }\n",
              "      </script>\n",
              "    </div>\n",
              "  </div>\n",
              "  "
            ]
          },
          "metadata": {},
          "execution_count": 25
        }
      ],
      "source": [
        "#Compute the correlation between input/ output variables\n",
        "data.corr(method ='pearson')"
      ]
    },
    {
      "cell_type": "markdown",
      "metadata": {
        "id": "3qLniwu8gU-Q"
      },
      "source": [
        "\n",
        "- #### TV advertising has the highest correlation with sales. \n",
        "- #### The correlation coefficient between TV and sales is 0.999497, which is very close to 1. \n",
        "- #### This suggests that there is a strong positive relationship between TV advertising and sales. "
      ]
    },
    {
      "cell_type": "markdown",
      "metadata": {
        "id": "2VpG_SrFgU-R"
      },
      "source": [
        "\n",
        "- The plt.hist() function from Matplotlib library is used to compute and create a histogram of x. \n",
        "- The np.log1p() function is used to calculate the natural logarithm of 1+x element-wise for all elements in the array x. \n",
        "- The plt.figure() function is used to create a new figure with the specified size."
      ]
    },
    {
      "cell_type": "code",
      "execution_count": null,
      "metadata": {
        "id": "xXb8RubigU-R",
        "outputId": "bb8dd16c-0d15-4713-925f-e8fc62750799",
        "colab": {
          "base_uri": "https://localhost:8080/",
          "height": 489
        }
      },
      "outputs": [
        {
          "output_type": "display_data",
          "data": {
            "text/plain": [
              "<Figure size 800x500 with 1 Axes>"
            ],
            "image/png": "[encoded data removed]"
          },
          "metadata": {}
        }
      ],
      "source": [
        "plt.figure(figsize=(8,5))\n",
        "plt.hist(np.log1p(data.TV), bins=30)\n",
        "plt.title('Distribution of TV', fontsize=16)\n",
        "plt.xlabel('TV')\n",
        "plt.ylabel('Frequency')\n",
        "plt.show()"
      ]
    },
    {
      "cell_type": "markdown",
      "metadata": {
        "id": "-yxoUs9ggU-S"
      },
      "source": [
        "\n",
        "- The code plt.hist(np.log1p(data.Sales), bins=30) is used to plot a histogram of the natural logarithm of the sales data. \n",
        "- The np.log1p() function is used to calculate the natural logarithmic value of x+1 where x belongs to all the input array elements. \n",
        "- This function is used instead of np.log() to avoid log(0) errors. The bins parameter specifies the number of bins in the histogram. \n",
        "- In this case, there are 30 bins. The plt.hist() function is used to plot the histogram. \n",
        "- It takes an array of dataset and array of bin as parameter and creates a histogram of the corresponding data values"
      ]
    },
    {
      "cell_type": "code",
      "execution_count": null,
      "metadata": {
        "id": "7AgcT_STgU-S",
        "outputId": "22372944-9119-469c-8ae0-696b896b804b",
        "colab": {
          "base_uri": "https://localhost:8080/",
          "height": 489
        }
      },
      "outputs": [
        {
          "output_type": "display_data",
          "data": {
            "text/plain": [
              "<Figure size 800x500 with 1 Axes>"
            ],
            "image/png": "[encoded data removed]"
          },
          "metadata": {}
        }
      ],
      "source": [
        "plt.figure(figsize=(8,5))\n",
        "plt.hist(np.log1p(data.Sales), bins=30)\n",
        "plt.title('Distribution of Sales', fontsize=16)\n",
        "plt.xlabel('Sales')\n",
        "plt.ylabel('Frequency')\n",
        "plt.show()"
      ]
    },
    {
      "cell_type": "markdown",
      "metadata": {
        "id": "-N_RycSIgU-S"
      },
      "source": [
        "\n",
        "- Splitting the data into training and testing sets for a machine learning model. \n",
        "- The input data is saved as a 2D array in the variable x, which contains the TV column of the original data. \n",
        "- The output data is saved as a 2D array in the variable y, which contains the Sales column of the original data. \n",
        "- The input and output data are then split into training and testing sets using the train_test_split() function from scikit-learn. \n",
        "- The training set contains 80% of the data, while the testing set contains 20% of the data. \n",
        "- The random state is set to 42 to ensure that the same random split is obtained each time the code is run."
      ]
    },
    {
      "cell_type": "code",
      "execution_count": null,
      "metadata": {
        "id": "ncjSo7-fgU-T"
      },
      "outputs": [],
      "source": [
        "#Save input as 2d array in variable x\n",
        "x=data[['TV']]\n",
        "#Save output as 2d array in variable y \n",
        "y=data[['Sales']]\n",
        "\n",
        "#Split input and output to training and testing data\n",
        "x_train, x_test, y_train, y_test = train_test_split(x,y,test_size=0.2,random_state=42)"
      ]
    },
    {
      "cell_type": "code",
      "execution_count": null,
      "metadata": {
        "id": "ulblrEZPgU-T",
        "outputId": "6d2bf365-5f04-4050-c0db-574e065af303",
        "colab": {
          "base_uri": "https://localhost:8080/"
        }
      },
      "outputs": [
        {
          "output_type": "stream",
          "name": "stdout",
          "text": [
            "TV: mean=54.063 stdv=26.102\n",
            "Sales: mean=192.413 stdv=93.010\n"
          ]
        }
      ],
      "source": [
        "# print the mean and standard deviation for input x (TV) and output y (Sales) columns\n",
        "print('TV: mean=%.3f stdv=%.3f' % (np.mean(x), np.std(x)))\n",
        "print('Sales: mean=%.3f stdv=%.3f' % (np.mean(y), np.std(y)))"
      ]
    },
    {
      "cell_type": "code",
      "execution_count": null,
      "metadata": {
        "id": "-o5hbZgGgU-U",
        "outputId": "09425ffb-52ab-4dea-c084-e04b0b28b175",
        "colab": {
          "base_uri": "https://localhost:8080/"
        }
      },
      "outputs": [
        {
          "output_type": "stream",
          "name": "stdout",
          "text": [
            "coefficients:  [[3.56191195]]\n",
            "Intercept:  [-0.1689657]\n"
          ]
        }
      ],
      "source": [
        "#Create our second linear regression model\n",
        "model_2=linear_model.LinearRegression()#Select linear regression model\n",
        "model_2.fit(x_train,y_train)\n",
        "\n",
        "#The coefficients:\n",
        "print(\"coefficients: \", model_2.coef_)#Slope\n",
        "print(\"Intercept: \", model_2.intercept_)#Intercept"
      ]
    },
    {
      "cell_type": "markdown",
      "metadata": {
        "id": "ku-keMLngU-V"
      },
      "source": [
        "\n",
        "- Plotting a scatter plot of the TV column of the data against the Sales column of the data using the scatter() function from matplotlib. \n",
        "- The plot is colored light blue. The code then plots a line on top of the scatter plot using the plot() function from matplotlib. \n",
        "- The line is generated using the coefficients and intercept from a linear regression model (model_2) that has been fit to the training data. \n",
        "- The x-axis of the plot represents the TV column of the data, while the y-axis represents the Sales column of the data. The x-axis is labeled “TV”, while the y-axis is labeled “Sales”."
      ]
    },
    {
      "cell_type": "code",
      "execution_count": null,
      "metadata": {
        "id": "IAci4_gPgU-V",
        "outputId": "67e68caa-977e-47a9-ad84-142b6aef02e7",
        "colab": {
          "base_uri": "https://localhost:8080/",
          "height": 466
        }
      },
      "outputs": [
        {
          "output_type": "execute_result",
          "data": {
            "text/plain": [
              "Text(0, 0.5, 'Sales')"
            ]
          },
          "metadata": {},
          "execution_count": 31
        },
        {
          "output_type": "display_data",
          "data": {
            "text/plain": [
              "<Figure size 640x480 with 1 Axes>"
            ],
            "image/png": "[encoded data removed]"
          },
          "metadata": {}
        }
      ],
      "source": [
        "#Plotting the regression line:\n",
        "plt.scatter(data[\"TV\"], data[\"Sales\"], color='lightblue')\n",
        "plt.plot(x_train, model_2.coef_*x_train+model_2.intercept_,'-y')\n",
        "plt.xlabel(\"TV\")\n",
        "plt.ylabel(\"Sales\")"
      ]
    },
    {
      "cell_type": "markdown",
      "metadata": {
        "id": "PA6oGlcggU-W"
      },
      "source": [
        "\n",
        "-  Using the second model (model_2) to predict the sales for a given value of TV. \n",
        "-  The value of TV is set to 70,000,000 and is reshaped into a 2D array using the reshape() function from numpy. \n",
        "-  The predict() function from scikit-learn is then used to predict the sales for this value of TV. The predicted sales are then divided by 1,000,000 and formatted to six decimal places using the '{:.6f}'.format() function. The estimated sales are then printed to the console.\n",
        "\n",
        "- The second block of code using the second model (model_2) to predict the sales for the testing data (x_test). The predicted sales are saved in the variable y_pred."
      ]
    },
    {
      "cell_type": "code",
      "execution_count": null,
      "metadata": {
        "id": "XpgjbcJ8gU-W",
        "outputId": "9d6df48d-abe4-4b48-c137-f48a6c108a3d",
        "colab": {
          "base_uri": "https://localhost:8080/"
        }
      },
      "outputs": [
        {
          "output_type": "stream",
          "name": "stdout",
          "text": [
            "Estimated Sales is: 249.333837 million\n"
          ]
        }
      ],
      "source": [
        "#Predicting Sales for myTV using our second model:\n",
        "myTV=np.array(70000000).reshape(1,-1)\n",
        "prediction=model_2.predict(myTV)\n",
        "estimatd_Sales='{:.6f}'.format(prediction.item()/1000000)\n",
        "print(\"Estimated Sales is: {} million\".format(estimatd_Sales))"
      ]
    },
    {
      "cell_type": "code",
      "execution_count": null,
      "metadata": {
        "id": "FMFYulE_gU-X"
      },
      "outputs": [],
      "source": [
        "y_pred = model_2.predict(x_test)"
      ]
    },
    {
      "cell_type": "markdown",
      "metadata": {
        "id": "sm0JvtT8gU-X"
      },
      "source": [
        "\n",
        "- Calculating the evaluation metrics for the second model (model_2). \n",
        "- The first metric calculated is the mean absolute error (MAE), which is calculated using the mean_absolute_error() function from scikit-learn. The MAE is then printed to the console. \n",
        "- The second metric calculated is the mean squared error (MSE), which is calculated using the mean_squared_error() function from scikit-learn. The MSE is then printed to the console. \n",
        "- The third metric calculated is the root mean squared error (RMSE), which is calculated using the sqrt() function from numpy and the mean_squared_error() function from scikit-learn. The RMSE is then printed to the console"
      ]
    },
    {
      "cell_type": "code",
      "execution_count": null,
      "metadata": {
        "id": "hSNUCxGzgU-Y",
        "outputId": "94bbc984-2463-4648-e4c5-f31a98e93c45",
        "colab": {
          "base_uri": "https://localhost:8080/"
        }
      },
      "outputs": [
        {
          "output_type": "stream",
          "name": "stdout",
          "text": [
            "The mean absolute error is:  2.3108516081408705\n",
            "The mean squared error is:  8.313211608212859\n",
            "The root mean squared error is:  2.8832640545418067\n"
          ]
        }
      ],
      "source": [
        "# Calculate the evaluation metrics \n",
        "\n",
        "#1- Mean Absolute Error (MAE)\n",
        "print('The mean absolute error is: ',metrics.mean_absolute_error(y_test, y_pred))\n",
        "\n",
        "#2- Mean Squared Error (MSE)\n",
        "print('The mean squared error is: ',metrics.mean_squared_error(y_test, y_pred))\n",
        "\n",
        "#3- Root Mean Squared Error (RMSE)\n",
        "print('The root mean squared error is: ',np.sqrt(metrics.mean_squared_error(y_test, y_pred)))"
      ]
    },
    {
      "cell_type": "markdown",
      "metadata": {
        "id": "m1DYR9QDgU-Y"
      },
      "source": [
        "> Second model has lower values for all three evaluation metrics than the first model, which suggests that it is a better fit for the data."
      ]
    }
  ],
  "metadata": {
    "kernelspec": {
      "display_name": "Python 3",
      "language": "python",
      "name": "python3"
    },
    "language_info": {
      "codemirror_mode": {
        "name": "ipython",
        "version": 3
      },
      "file_extension": ".py",
      "mimetype": "text/x-python",
      "name": "python",
      "nbconvert_exporter": "python",
      "pygments_lexer": "ipython3",
      "version": "3.11.2"
    },
    "orig_nbformat": 4,
    "colab": {
      "provenance": []
    }
  },
  "nbformat": 4,
  "nbformat_minor": 0
}